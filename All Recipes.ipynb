{
 "cells": [
  {
   "cell_type": "markdown",
   "metadata": {},
   "source": [
    "https://github.com/remaudcorentin-dev/python-allrecipes/blob/master/allrecipes/__init__.py"
   ]
  },
  {
   "cell_type": "code",
   "execution_count": 62,
   "metadata": {},
   "outputs": [
    {
     "name": "stdout",
     "output_type": "stream",
     "text": [
      "AllRecipes URL: https://www.allrecipes.com/recipe/23822/pumpkin-gingerbread/?internalSource=streams&referringId=347&referringContentType=Recipe%20Hub&clickId=st_trending_b\n",
      "\n",
      "Recipe: Pumpkin Gingerbread\n",
      "☆: 4.80\n",
      "Prep time: 15 m\n",
      "\n",
      "Ingredients\n",
      "- 3 cups sugar\n",
      "- 1 cup vegetable oil\n",
      "- 4 eggs\n",
      "- 2/3 cup water\n",
      "- 1 (15 ounce) can pumpkin puree\n",
      "- 2 teaspoons ground ginger\n",
      "- 1 teaspoon ground allspice\n",
      "- 1 teaspoon ground cinnamon\n",
      "- 1 teaspoon ground cloves\n",
      "- 3 1/2 cups all-purpose flour\n",
      "- 2 teaspoons baking soda\n",
      "- 1 1/2 teaspoons salt\n",
      "- 1/2 teaspoon baking powder\n",
      "\n",
      "Directions\n",
      "1. Preheat oven to 350 degrees F (175 degrees C). Lightly grease two 9x5 inch loaf pans.                            \n",
      "2. In a large mixing, combine sugar, oil and eggs; beat until smooth. Add water and beat until well blended. Stir in pumpkin, ginger, allspice cinnamon, and clove.                            \n",
      "3. In medium bowl, combine flour, soda, salt, and baking powder.  Add dry ingredients to pumpkin mixture and blend just until all ingredients are mixed.  Divide batter between prepared pans.                            \n",
      "4. Bake in preheated oven until toothpick comes out clean, about 1 hour.                            \n"
     ]
    }
   ],
   "source": [
    "recipe_url  = input(\"AllRecipes URL: \")\n",
    "recipe_data = basicSearch(recipe_url)\n",
    "displayRecipe(recipe_data)"
   ]
  },
  {
   "cell_type": "code",
   "execution_count": 61,
   "metadata": {
    "collapsed": true
   },
   "outputs": [],
   "source": [
    "def displayRecipe(recipe_data):\n",
    "    \n",
    "    print(\"\")\n",
    "    \n",
    "    print(\"Recipe: {}\".format(recipe_data['name']))\n",
    "    print(\"☆: {}\".format(recipe_data['rating'][:4]))\n",
    "    print(\"Prep time: {}\".format(recipe_data['prep_time']))\n",
    "\n",
    "    print(\"\")\n",
    "\n",
    "    print(\"Ingredients\")\n",
    "    for i, ingr in enumerate(recipe_data['ingredients']):\n",
    "        print(\"- {}\".format(ingr))\n",
    "\n",
    "    print(\"\")\n",
    "\n",
    "    print(\"Directions\")\n",
    "    for i, step in enumerate(recipe_data['steps']):\n",
    "        print(\"{}. {}\".format(i+1, step))"
   ]
  },
  {
   "cell_type": "code",
   "execution_count": 55,
   "metadata": {},
   "outputs": [],
   "source": [
    "from bs4 import BeautifulSoup\n",
    "\n",
    "import urllib.parse\n",
    "import urllib.request\n",
    "\n",
    "import re\n",
    "\n",
    "def basicSearch(recipe_url):\n",
    "    \n",
    "    html_content   = urllib.request.urlopen(recipe_url).read()\n",
    "    soup           = BeautifulSoup(html_content, 'html.parser')\n",
    "\n",
    "    name           = soup.find(\"h1\", {\"class\": \"recipe-summary__h1\"}).get_text()\n",
    "    rating         = soup.find(\"div\", {\"class\": \"rating-stars\"})['data-ratingstars']\n",
    "    ingredients    = soup.findAll(\"li\", {\"class\": \"checkList__line\"})\n",
    "    steps          = soup.findAll(\"span\", {\"class\": \"recipe-directions__list--item\"})\n",
    "    \n",
    "    direction_data = soup.find(\"div\", {\"class\": \"directions--section__steps\"})\n",
    "    prep_time      = direction_data.find(\"time\", {\"itemprop\": \"prepTime\"}).get_text()\n",
    "    cook_time      = direction_data.find(\"time\", {\"itemprop\": \"cookTime\"}).get_text()\n",
    "    total_time     = direction_data.find(\"time\", {\"itemprop\": \"totalTime\"}).get_text()\n",
    "\n",
    "    data = {\"ingredients\": [],\n",
    "                  \"steps\": [],\n",
    "                   \"name\": name,\n",
    "                 \"rating\": rating,\n",
    "              \"prep_time\": prep_time,\n",
    "              \"cook_time\": cook_time,\n",
    "             \"total_time\": total_time\n",
    "    }\n",
    "\n",
    "    for ingredient in ingredients:\n",
    "        str_ing = ingredient.find(\"span\", {\"class\": \"recipe-ingred_txt\"}).get_text()\n",
    "        # Exception case is always last of element.\n",
    "        if str_ing and str_ing != \"Add all ingredients to list\":\n",
    "            data[\"ingredients\"].append(str_ing)\n",
    "\n",
    "    for step in steps:\n",
    "        str_step = step.get_text()\n",
    "        if str_step:\n",
    "            data[\"steps\"].append(str_step.replace(\"\\n\", \"\"))\n",
    "\n",
    "    return data "
   ]
  },
  {
   "cell_type": "code",
   "execution_count": 5,
   "metadata": {},
   "outputs": [
    {
     "name": "stdout",
     "output_type": "stream",
     "text": [
      "1. make boba dough\n",
      "2. make into balls\n",
      "3. cook the boba \n",
      "4. serve\n",
      "5. \n",
      "\n",
      "\n",
      "1. make boba dough\n",
      "2. make into balls\n",
      "3. cook the boba \n",
      "4. serve\n"
     ]
    }
   ],
   "source": [
    "step_index, recipe = 1, []\n",
    "\n",
    "while True:\n",
    "    \n",
    "    list_step  = \"{}. \".format(step_index)\n",
    "    user_input = input(list_step)\n",
    "    \n",
    "    if not user_input:\n",
    "        break\n",
    "    \n",
    "    recipe.append(list_step + user_input)\n",
    "    step_index += 1\n",
    "    \n",
    "print(\"\\n\")\n",
    "for step in recipe:\n",
    "    print(step)"
   ]
  }
 ],
 "metadata": {
  "kernelspec": {
   "display_name": "Python 3",
   "language": "python",
   "name": "python3"
  },
  "language_info": {
   "codemirror_mode": {
    "name": "ipython",
    "version": 3
   },
   "file_extension": ".py",
   "mimetype": "text/x-python",
   "name": "python",
   "nbconvert_exporter": "python",
   "pygments_lexer": "ipython3",
   "version": "3.6.3"
  }
 },
 "nbformat": 4,
 "nbformat_minor": 2
}
