{
 "cells": [
  {
   "cell_type": "code",
   "execution_count": 2,
   "metadata": {},
   "outputs": [
    {
     "name": "stdout",
     "output_type": "stream",
     "text": [
      "Found 0 faces!\n"
     ]
    },
    {
     "data": {
      "text/plain": [
       "'\\ncv.imshow(\"Faces found\", image)\\ncv.waitKey(0)\\ncv.destroyAllWindows()\\ncv.waitKey(1)\\n'"
      ]
     },
     "execution_count": 2,
     "metadata": {},
     "output_type": "execute_result"
    }
   ],
   "source": [
    "import cv2 as cv\n",
    "\n",
    "# pre-trained face classifier\n",
    "faceCascade = cv.CascadeClassifier('lbpcascade_frontalface_improved.xml')\n",
    "image = cv.imread('input/obama.jpg')\n",
    "gray  = cv.cvtColor(image, cv.COLOR_RGB2GRAY)\n",
    "\n",
    "faces = faceCascade.detectMultiScale(gray, 1.3, 5)\n",
    "\n",
    "print(\"Found {} faces!\".format(len(faces)))\n",
    "\n",
    "count = 0\n",
    "for x, y, w, h in faces:\n",
    "    imageCrop = image[y : y + h, x : x + w]\n",
    "    cv.imwrite(\"output/test{}.jpg\".format(count), imageCrop)\n",
    "    cv.rectangle(image, (x, y), (x + w, y + h), (255, 0, 0), 2)\n",
    "    count += 1\n",
    "\n",
    "\"\"\"\n",
    "cv.imshow(\"Faces found\", image)\n",
    "cv.waitKey(0)\n",
    "cv.destroyAllWindows()\n",
    "cv.waitKey(1)\n",
    "\"\"\"\n",
    "\n",
    "\n"
   ]
  },
  {
   "cell_type": "code",
   "execution_count": null,
   "metadata": {
    "collapsed": true
   },
   "outputs": [],
   "source": [
    "\n",
    "\n",
    "def AutoCrop(source):\n",
    "    \n",
    "    # Load in color image for face detection\n",
    "    image = cv2.imread(source)\n",
    "\n",
    "    # Convert the image to RGB colorspace\n",
    "    image = cv2.cvtColor(image, cv2.COLOR_BGR2RGB)\n",
    "\n",
    "    # Make a copy of the original image to draw face detections on\n",
    "    image_copy = np.copy(image)\n",
    "\n",
    "    # Convert the image to gray \n",
    "    gray_image = cv2.cvtColor(image, cv2.COLOR_RGB2GRAY)\n",
    "\n",
    "    # Detect faces in the image using pre-trained face dectector\n",
    "    faces = face_cascade.detectMultiScale(gray_image, 1.25, 6)\n",
    "\n",
    "# Print number of faces found\n",
    "print('Number of faces detected:', len(faces))\n",
    "\n",
    "# Get the bounding box for each detected face\n",
    "for f in faces:\n",
    "    x, y, w, h = [ v for v in f ]\n",
    "    cv2.rectangle(image_copy, (x,y), (x+w, y+h), (255,0,0), 3)\n",
    "    # Define the region of interest in the image  \n",
    "    face_crop = gray_image[y:y+h, x:x+w]\n",
    "\n",
    "# Display the image with the bounding boxes\n",
    "fig = plt.figure(figsize = (9,9))\n",
    "axl = fig.add_subplot(111)\n",
    "axl.set_xticks([])\n",
    "axl.set_yticks([])\n",
    "\n",
    "ax1.set_title(\"Obamas with Face Detection\")\n",
    "axl.imshow(image_copy)\n",
    "\n",
    "# Display the face crops\n",
    "fig = plt.figure(figsize = (9,9))\n",
    "axl = fig.add_subplot(111)\n",
    "axl.set_xticks([])\n",
    "axl.set_yticks([])\n",
    "\n",
    "axl.set_title(\"Obamas Face Crops\")\n",
    "axl.imshow(face_crop)"
   ]
  },
  {
   "cell_type": "code",
   "execution_count": null,
   "metadata": {},
   "outputs": [],
   "source": [
    "import cv2\n",
    "cv"
   ]
  },
  {
   "cell_type": "code",
   "execution_count": null,
   "metadata": {
    "scrolled": false
   },
   "outputs": [],
   "source": [
    "[word for word in dir(cv2) if word.find(\"Image\") >= 0]"
   ]
  },
  {
   "cell_type": "code",
   "execution_count": null,
   "metadata": {},
   "outputs": [],
   "source": [
    "type(dir(cv2))"
   ]
  },
  {
   "cell_type": "code",
   "execution_count": null,
   "metadata": {
    "collapsed": true
   },
   "outputs": [],
   "source": []
  }
 ],
 "metadata": {
  "kernelspec": {
   "display_name": "Python 3",
   "language": "python",
   "name": "python3"
  },
  "language_info": {
   "codemirror_mode": {
    "name": "ipython",
    "version": 3
   },
   "file_extension": ".py",
   "mimetype": "text/x-python",
   "name": "python",
   "nbconvert_exporter": "python",
   "pygments_lexer": "ipython3",
   "version": "3.6.3"
  }
 },
 "nbformat": 4,
 "nbformat_minor": 2
}
