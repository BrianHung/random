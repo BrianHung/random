{
 "cells": [
  {
   "cell_type": "markdown",
   "metadata": {},
   "source": [
    "# Libraries"
   ]
  },
  {
   "cell_type": "markdown",
   "metadata": {},
   "source": [
    "To install `dlib`,\n",
    "\n",
    "```\n",
    "git clone https://github.com/davisking/dlib.git\n",
    "cd dlib\n",
    "sudo python setup.py install\n",
    "```\n",
    "\n",
    "To install `PIL`,\n",
    "\n",
    "```\n",
    "pip install pillow\n",
    "```"
   ]
  },
  {
   "cell_type": "code",
   "execution_count": 23,
   "metadata": {
    "collapsed": true
   },
   "outputs": [],
   "source": [
    "import dlib\n",
    "import os\n",
    "\n",
    "from PIL import Image\n",
    "from skimage import io\n",
    "\n",
    "import matplotlib.pyplot as plt"
   ]
  },
  {
   "cell_type": "markdown",
   "metadata": {},
   "source": [
    "# Code"
   ]
  },
  {
   "cell_type": "code",
   "execution_count": 28,
   "metadata": {},
   "outputs": [],
   "source": [
    "def detect_faces(image):\n",
    "    \"\"\"\n",
    "    Returns cooridates of square box around each face.\n",
    "    \"\"\"\n",
    "    # Create a face detector\n",
    "    face_detector = dlib.get_frontal_face_detector()\n",
    "\n",
    "    # Run detector and get bounding boxes of the faces on image.\n",
    "    faces = face_detector(image, 1)\n",
    "    face_frames = [(x.left(), x.top(), x.right(), x.bottom()) for x in faces]\n",
    "\n",
    "    return face_frames\n",
    "\n",
    "\n",
    "def AutoCrop(image_path, image_name, output_path=\"\"):\n",
    "    \"\"\"\n",
    "    Takes in an image at image_path/image_name, crops the face, and saves\n",
    "    the result at output_path/image_name.\n",
    "    \"\"\"\n",
    "    # Load image\n",
    "    image = io.imread(image_path + image_name)\n",
    "    image_name = image_name.split(\".\")[0]\n",
    "\n",
    "    # Detect faces\n",
    "    faces = detect_faces(image)\n",
    "\n",
    "    print(\"Found {} faces!\".format(len(faces)))\n",
    "\n",
    "    # Crop faces and plot\n",
    "    for n, face_rect in enumerate(faces):\n",
    "        face = Image.fromarray(image).crop(face_rect)\n",
    "        face.save('{}{}_{}.png'.format(output_path, image_name, n))\n",
    "\n",
    "def AutoCropMultiple(image_path, output_path=\"output/\"):\n",
    "    \"\"\"\n",
    "    Takes in a folder of images, crops the faces, and saves the the\n",
    "    results at output_path.\n",
    "    \"\"\"\n",
    "    images = os.listdir(image_path)\n",
    "    for image_name in images:\n",
    "        try:\n",
    "            image = Image.open(image_path + image_name)\n",
    "            AutoCrop(image_path, image_name, output_path)\n",
    "        except IOError:\n",
    "            print(\"{} is not an image!\".format(image_name))"
   ]
  },
  {
   "cell_type": "markdown",
   "metadata": {},
   "source": [
    "# Examples"
   ]
  },
  {
   "cell_type": "code",
   "execution_count": 22,
   "metadata": {},
   "outputs": [
    {
     "name": "stdout",
     "output_type": "stream",
     "text": [
      "Found 1 faces!\n"
     ]
    }
   ],
   "source": [
    "AutoCrop('input/', 'obama.jpg')"
   ]
  },
  {
   "cell_type": "code",
   "execution_count": 29,
   "metadata": {},
   "outputs": [
    {
     "name": "stdout",
     "output_type": "stream",
     "text": [
      ".DS_Store is not an image!\n",
      "Found 4 faces!\n",
      "Found 1 faces!\n"
     ]
    }
   ],
   "source": [
    "AutoCropMultiple('input/')"
   ]
  }
 ],
 "metadata": {
  "kernelspec": {
   "display_name": "Python 3",
   "language": "python",
   "name": "python3"
  },
  "language_info": {
   "codemirror_mode": {
    "name": "ipython",
    "version": 3
   },
   "file_extension": ".py",
   "mimetype": "text/x-python",
   "name": "python",
   "nbconvert_exporter": "python",
   "pygments_lexer": "ipython3",
   "version": "3.6.3"
  }
 },
 "nbformat": 4,
 "nbformat_minor": 2
}
