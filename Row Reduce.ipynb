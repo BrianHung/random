{
 "cells": [
  {
   "cell_type": "markdown",
   "metadata": {},
   "source": [
    "## Row Reduction\n",
    "\n",
    "Ever wonder how row reduction could be implemented in python? Now you know. Don't actually use this; I guarantee it's not as optimized as the function in np.linalg."
   ]
  },
  {
   "cell_type": "code",
   "execution_count": 1,
   "metadata": {
    "collapsed": true
   },
   "outputs": [],
   "source": [
    "from fractions import Fraction"
   ]
  },
  {
   "cell_type": "code",
   "execution_count": 2,
   "metadata": {
    "collapsed": true
   },
   "outputs": [],
   "source": [
    "def row_reduce(M):\n",
    "    \"\"\"\n",
    "    Assume M is a square matrix whose entries are of type Fraction.        \n",
    "    \"\"\"\n",
    "    num_rows, num_columns = len(M), len(M[0])\n",
    "    for i in range(num_rows):\n",
    "            \n",
    "        # Finds next row to act as ith pivot.\n",
    "        next_row = find_next_row(M, i)\n",
    "        if next_row == None:\n",
    "            break\n",
    "        # Switches rows if necessary.\n",
    "        elif next_row != i:\n",
    "            M[i], M[next_row] = M[next_row], M[i]\n",
    "                \n",
    "        # Selects pivot element.\n",
    "        first_item = M[i][i]\n",
    "            \n",
    "        # Normalizes elements of that row.\n",
    "        for elm in range(num_columns):\n",
    "            M[i][elm] /= first_item\n",
    "               \n",
    "        # Subtract that row from others.\n",
    "        for j in range(num_rows):\n",
    "            if j != i:\n",
    "                multiplier = M[j][i]\n",
    "                for elm in range(num_columns):\n",
    "                    M[j][elm] -= multiplier * M[i][elm]\n",
    "                \n",
    "    return M \n",
    "            \n",
    "def find_next_row(M, r):\n",
    "    \"\"\"\n",
    "    Given a matrix M, find index of row which can act as a pivot\n",
    "    for the r-th column. Returns none if does not exist.\n",
    "    \"\"\"\n",
    "    for i in range(r, len(M)):\n",
    "        if M[i][r] != 0: return i \n",
    "    return None"
   ]
  },
  {
   "cell_type": "code",
   "execution_count": null,
   "metadata": {
    "collapsed": true
   },
   "outputs": [],
   "source": []
  }
 ],
 "metadata": {
  "kernelspec": {
   "display_name": "Python 3",
   "language": "python",
   "name": "python3"
  },
  "language_info": {
   "codemirror_mode": {
    "name": "ipython",
    "version": 3
   },
   "file_extension": ".py",
   "mimetype": "text/x-python",
   "name": "python",
   "nbconvert_exporter": "python",
   "pygments_lexer": "ipython3",
   "version": "3.6.3"
  }
 },
 "nbformat": 4,
 "nbformat_minor": 2
}
