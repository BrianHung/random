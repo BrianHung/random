{
 "cells": [
  {
   "cell_type": "markdown",
   "metadata": {},
   "source": [
    "# Fixed Point"
   ]
  },
  {
   "cell_type": "markdown",
   "metadata": {},
   "source": [
    "### Definition\n",
    "\n",
    "A point is said to be a **fixed point** under a function $f$ if and only if it is *invariant* under $f$, that is \n",
    "\n",
    "$$f(x) = x.$$\n",
    "\n",
    "As a collorary, successive iterations of $f$ on a fixed point $x$ essentially has no effect on the outcome:\n",
    "\n",
    "$$f \\cdots f(f(f(x))) = f^n(x) = x.$$"
   ]
  },
  {
   "cell_type": "markdown",
   "metadata": {},
   "source": [
    "### Clarifications\n",
    "\n",
    "Not all functions have fixed points. \n",
    "\n",
    "*Example.* There can never exist a fixed point $x$ for $f(x) = x + 1$ since it is always shifted by $1$.\n",
    "\n",
    "The [fixed-point theorem](https://en.wikipedia.org/wiki/Fixed-point_theorem) guarantees the existence of at least one fixed point for certain $f$. There are variants of this theorem which deals with specific functions.\n",
    "\n",
    "*Example.* The [Brouwer fixed-point theorem](https://en.wikipedia.org/wiki/Brouwer_fixed-point_theorem) deals with $f$ which are compact and convex."
   ]
  },
  {
   "cell_type": "markdown",
   "metadata": {},
   "source": [
    "### Types\n",
    "\n",
    "There are two types of fixed points which have to do with convergence starting from an $x_0$ close to $x$. Note we defined $x_0 = x + \\epsilon$.\n",
    "    \n",
    "1. **stable** (attractive): a fixed point $x$ is said to be stable if for $\\epsilon \\geq 0$, $$\\lim_{n \\rightarrow \\infty} f^n(x_0) = x.$$\n",
    "      \n",
    "2. **unstable**: a fixed point $x$ is said to be unstable if the preceding limit only holds for $\\epsilon = 0$, that is $$\\lim_{n \\rightarrow \\infty} f^n(x_0) = x$$ if and only if $x_0 = x$."
   ]
  },
  {
   "cell_type": "markdown",
   "metadata": {},
   "source": [
    "### Main Example \n",
    "\n",
    "*Example.* What are the unstable and stable fixed points of the function $f(x) = 1 + \\frac{1}{x}$?\n",
    "\n",
    "*Approach.* \n",
    "\n",
    "1. Using the definition of fixed point, we first set $f(x) = x$, $$x = 1 + \\frac{1}{x}.$$\n",
    "\n",
    "2. Manipulating algebraically, we obtain the polynomial $x^2 = x + 1$, or $$x^2 - x - 1 = 0.$$ (This is the minimal polynomial corresponding to the golden ratio.(\n",
    "\n",
    "3. Solving the polynomial, we find $$x = \\dfrac{1 + \\sqrt{5}}{2}, \\dfrac{1 - \\sqrt{5}}{2}.$$\n",
    "\n",
    "\n",
    "However, this doesn't tell us which $x$ is stable and unstable. Let's code up a test."
   ]
  },
  {
   "cell_type": "code",
   "execution_count": 45,
   "metadata": {},
   "outputs": [],
   "source": [
    "\"\"\"\n",
    "Applies func iteratively and stores result.\n",
    "\"\"\"\n",
    "def iter_func(func, fixed_point, epsilon, iterations):\n",
    "    # Seed value.\n",
    "    x = func(fixed_point + epsilon)\n",
    "    # Tabulates the results.\n",
    "    results = []\n",
    "    # Appends starting point and seed.\n",
    "    results.append(fixed_point + epsilon); results.append(x)\n",
    "    \n",
    "    for i in range(iterations):\n",
    "        x = func(x)\n",
    "        results.append(x)\n",
    "        \n",
    "    return results\n",
    "\n",
    "\n",
    "\"\"\"\n",
    "Our example function.\n",
    "\"\"\"\n",
    "def example_func(x):\n",
    "    return 1 + (1 / x)\n",
    "\n",
    "\n",
    "\"\"\"\n",
    "Definition of phi.\n",
    "\"\"\"\n",
    "x_0 = (1 + 5**(1 / 2)) / 2\n",
    "x_1 = (1 - 5**(1 / 2)) / 2"
   ]
  },
  {
   "cell_type": "code",
   "execution_count": 46,
   "metadata": {},
   "outputs": [],
   "source": [
    "iterations = 10\n",
    "ep = 0.5\n",
    "\n",
    "x_0_with_zero_ep = iter_func(example_func, x_0,  0, iterations)\n",
    "x_0_with_some_ep = iter_func(example_func, x_0, ep, iterations)\n",
    "\n",
    "x_1_with_zero_ep = iter_func(example_func, x_1,  0, iterations)\n",
    "x_1_with_some_ep = iter_func(example_func, x_1, ep, iterations)"
   ]
  },
  {
   "cell_type": "code",
   "execution_count": 47,
   "metadata": {},
   "outputs": [
    {
     "data": {
      "image/png": "[encoded data removed]",
      "text/plain": [
       "<matplotlib.figure.Figure at 0x10e8e9d68>"
      ]
     },
     "metadata": {},
     "output_type": "display_data"
    },
    {
     "data": {
      "image/png": "[encoded data removed]",
      "text/plain": [
       "<matplotlib.figure.Figure at 0x10eaefd30>"
      ]
     },
     "metadata": {},
     "output_type": "display_data"
    }
   ],
   "source": [
    "import matplotlib.pyplot as plt\n",
    "\n",
    "y = list(range(iterations + 2))\n",
    "\n",
    "plt.plot(y, x_0_with_zero_ep, 'r--', y, x_0_with_some_ep, 'bo')\n",
    "plt.show()\n",
    "\n",
    "plt.plot(y, x_1_with_zero_ep, 'r--', y, x_1_with_some_ep, 'bo')\n",
    "plt.show()"
   ]
  },
  {
   "cell_type": "markdown",
   "metadata": {},
   "source": [
    "We can therefore declare that $x = \\dfrac{1 + \\sqrt{5}}{2}$ is a stable point and $x = \\dfrac{1 - \\sqrt{5}}{2}$ is an unstable point of $f(x) = 1 + \\dfrac{1}{x}$. "
   ]
  },
  {
   "cell_type": "markdown",
   "metadata": {},
   "source": [
    "### Applications"
   ]
  },
  {
   "cell_type": "markdown",
   "metadata": {},
   "source": [
    "1. Zero Sum Games: Finding the Nash equilibrium of a zero sum game is equivalent to finding the fixed point of the game matrix.\n",
    "\n",
    "2. Markov Chains: Finding the stationary distribution is equivalent to finding the fixed point of the transition matrix.\n",
    "\n",
    "Note that both of these examples imply that the fixed point isn't necessarily a scalar -- it can be a vector, a matrix, or a higher dimension array as well!"
   ]
  }
 ],
 "metadata": {
  "kernelspec": {
   "display_name": "Python 3",
   "language": "python",
   "name": "python3"
  },
  "language_info": {
   "codemirror_mode": {
    "name": "ipython",
    "version": 3
   },
   "file_extension": ".py",
   "mimetype": "text/x-python",
   "name": "python",
   "nbconvert_exporter": "python",
   "pygments_lexer": "ipython3",
   "version": "3.6.3"
  }
 },
 "nbformat": 4,
 "nbformat_minor": 2
}
